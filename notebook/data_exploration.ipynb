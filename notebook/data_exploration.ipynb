{
 "cells": [
  {
   "cell_type": "code",
   "execution_count": 28,
   "metadata": {
    "collapsed": true,
    "ExecuteTime": {
     "start_time": "2023-05-25T22:23:11.487772Z",
     "end_time": "2023-05-25T22:23:11.502335Z"
    }
   },
   "outputs": [],
   "source": [
    "from datasets import load_dataset, load_from_disk\n",
    "\n",
    "dataset = load_dataset(\"conv_ai_2\")"
   ]
  },
  {
   "cell_type": "code",
   "execution_count": 15,
   "outputs": [
    {
     "name": "stdout",
     "output_type": "stream",
     "text": [
      "Dataset({\n",
      "    features: ['id', 'dialog_id', 'dialog', 'bot_profile', 'user_profile', 'eval_score', 'profile_match'],\n",
      "    num_rows: 3495\n",
      "})\n"
     ]
    }
   ],
   "source": [
    "print(dataset['train'])"
   ],
   "metadata": {
    "collapsed": false,
    "ExecuteTime": {
     "start_time": "2023-05-25T20:06:39.729193Z",
     "end_time": "2023-05-25T20:06:39.749598Z"
    }
   }
  },
  {
   "cell_type": "code",
   "execution_count": 16,
   "outputs": [
    {
     "name": "stdout",
     "output_type": "stream",
     "text": [
      "{'id': '0xab38710', 'dialog_id': '0xab38710', 'dialog': [{'id': 0, 'sender': 'participant2', 'text': 'I love iphone! i just bought new iphone!', 'sender_class': 'Bot'}, {'id': 1, 'sender': 'participant1', 'text': \"Thats good for you, i'm not very into new tech\", 'sender_class': 'Human'}, {'id': 2, 'sender': 'participant2', 'text': 'I am a college student and i am a college student', 'sender_class': 'Bot'}, {'id': 3, 'sender': 'participant1', 'text': 'I am go to gym and live on donations', 'sender_class': 'Human'}, {'id': 4, 'sender': 'participant2', 'text': 'I am a vegan and i am in the midwest', 'sender_class': 'Bot'}, {'id': 5, 'sender': 'participant1', 'text': 'So vegan... i have dogs maybe i should told then that they may eat cheap salads insted of meat', 'sender_class': 'Human'}, {'id': 6, 'sender': 'participant2', 'text': 'I would not mind having them in the office that would be hard for me', 'sender_class': 'Bot'}, {'id': 7, 'sender': 'participant1', 'text': 'Dogs or vegan in office?', 'sender_class': 'Human'}, {'id': 8, 'sender': 'participant2', 'text': 'I am a vegetarian so i am vegan', 'sender_class': 'Bot'}, {'id': 9, 'sender': 'participant1', 'text': 'Strange answer', 'sender_class': 'Human'}, {'id': 10, 'sender': 'participant2', 'text': 'I guess i just do not know what to ps4 experience with.', 'sender_class': 'Bot'}], 'bot_profile': [['i', ' ', 'h', 'a', 'v', 'e', ' ', 'a', 'm', 'a', 'z', 'i', 'n', 'g', ' ', 'c', 'h', 'i', 'l', 'd', 'r', 'e', 'n', ' ', 'a', 'n', 'd', ' ', 'g', 'r', 'a', 'n', 'd', 'c', 'h', 'i', 'l', 'd', 'r', 'e', 'n', '.'], ['i', ' ', 'c', 'a', 'n', ' ', 's', 'e', 'w', ' ', 'm', 'y', ' ', 'o', 'w', 'n', ' ', 'c', 'l', 'o', 't', 'h', 'e', 's', '.'], ['i', ' ', 'h', 'a', 'd', ' ', 'c', 'a', 'n', 'c', 'e', 'r', ' ', 'b', 'u', 't', ' ', 'i', 't', 's', ' ', 'g', 'o', 'n', 'e', ' ', 'n', 'o', 'w', '.'], ['i', ' ', 'a', 'm', ' ', 'r', 'e', 't', 'i', 'r', 'e', 'd', ' ', 'a', 'n', 'd', ' ', 'l', 'i', 'v', 'i', 'n', 'g', ' ', 't', 'h', 'e', ' ', 'g', 'r', 'e', 'a', 't', ' ', 'l', 'i', 'f', 'e', '.'], ['i', ' ', 'd', 'o', ' ', 'n', 'o', 't', ' ', 'h', 'a', 'v', 'e', ' ', 'a', ' ', 's', 'm', 'a', 'r', 't', 'p', 'h', 'o', 'n', 'e', '.']], 'user_profile': [['t', 'w', 'o', ' ', 'd', 'o', 'g', 's', ' ', 'l', 'i', 'v', 'e', ' ', 'w', 'i', 't', 'h', ' ', 'm', 'e', '.'], ['i', ' ', 'l', 'i', 'k', 'e', ' ', 'd', 'o', 'i', 'n', 'g', ' ', 't', 'h', 'e', ' ', 't', 'r', 'e', 'a', 'd', 'm', 'i', 'l', 'l', ' ', 'a', 'n', 'd', ' ', 'r', 'o', 'w', 'i', 'n', 'g', ' ', 'm', 'a', 'c', 'h', 'i', 'n', 'e', '.'], ['e', 'a', 't', 'i', 'n', 'g', ' ', 'i', 's', ' ', 's', 'o', 'm', 'e', 't', 'h', 'i', 'n', 'g', ' ', 'i', ' ', 'd', 'o', ' ', 'w', 'h', 'e', 'n', ' ', 'i', \"'\", 'm', ' ', 'b', 'o', 'r', 'e', 'd', '.'], ['i', ' ', 'h', 'a', 'v', 'e', ' ', 's', 'h', 'o', 'r', 't', ' ', 'h', 'a', 'i', 'r', '.'], ['i', ' ', 'g', 'o', ' ', 't', 'o', ' ', 't', 'h', 'e', ' ', 'g', 'y', 'm', ' ', 'r', 'e', 'g', 'u', 'l', 'a', 'r', 'l', 'y', '.']], 'eval_score': 1, 'profile_match': 0}\n"
     ]
    }
   ],
   "source": [
    "print(dataset['train'][0])"
   ],
   "metadata": {
    "collapsed": false,
    "ExecuteTime": {
     "start_time": "2023-05-25T20:10:32.792756Z",
     "end_time": "2023-05-25T20:10:32.831143Z"
    }
   }
  },
  {
   "cell_type": "code",
   "execution_count": 17,
   "outputs": [],
   "source": [
    "dialogues = []\n",
    "for i in dataset['train']:\n",
    "    for j in i['dialog']:\n",
    "        dialogues.append(j['text'])"
   ],
   "metadata": {
    "collapsed": false,
    "ExecuteTime": {
     "start_time": "2023-05-25T22:08:07.891227Z",
     "end_time": "2023-05-25T22:08:10.823426Z"
    }
   }
  },
  {
   "cell_type": "code",
   "execution_count": 19,
   "outputs": [
    {
     "name": "stdout",
     "output_type": "stream",
     "text": [
      "47234\n"
     ]
    }
   ],
   "source": [
    "print(len(dialogues))"
   ],
   "metadata": {
    "collapsed": false,
    "ExecuteTime": {
     "start_time": "2023-05-25T22:08:45.129002Z",
     "end_time": "2023-05-25T22:08:45.174542Z"
    }
   }
  },
  {
   "cell_type": "code",
   "execution_count": 20,
   "outputs": [
    {
     "name": "stdout",
     "output_type": "stream",
     "text": [
      "['I love iphone! i just bought new iphone!', \"Thats good for you, i'm not very into new tech\", 'I am a college student and i am a college student', 'I am go to gym and live on donations', 'I am a vegan and i am in the midwest']\n"
     ]
    }
   ],
   "source": [
    "print(dialogues[:5])"
   ],
   "metadata": {
    "collapsed": false,
    "ExecuteTime": {
     "start_time": "2023-05-25T22:09:16.023518Z",
     "end_time": "2023-05-25T22:09:16.118756Z"
    }
   }
  },
  {
   "cell_type": "code",
   "execution_count": 26,
   "outputs": [
    {
     "data": {
      "text/plain": "Saving the dataset (0/1 shards):   0%|          | 0/3495 [00:00<?, ? examples/s]",
      "application/vnd.jupyter.widget-view+json": {
       "version_major": 2,
       "version_minor": 0,
       "model_id": "76d337413d544d26a9f8d2882dd2fe68"
      }
     },
     "metadata": {},
     "output_type": "display_data"
    }
   ],
   "source": [
    "dataset['train'].save_to_disk(\"data.hf\")"
   ],
   "metadata": {
    "collapsed": false,
    "ExecuteTime": {
     "start_time": "2023-05-25T22:21:10.524782Z",
     "end_time": "2023-05-25T22:21:10.652235Z"
    }
   }
  },
  {
   "cell_type": "code",
   "execution_count": 29,
   "outputs": [],
   "source": [
    "reloaded_dataset =  load_from_disk(\"data.hf\")"
   ],
   "metadata": {
    "collapsed": false,
    "ExecuteTime": {
     "start_time": "2023-05-25T22:23:21.201377Z",
     "end_time": "2023-05-25T22:23:21.231803Z"
    }
   }
  },
  {
   "cell_type": "code",
   "execution_count": 31,
   "outputs": [
    {
     "name": "stdout",
     "output_type": "stream",
     "text": [
      "{'id': '0xab38710', 'dialog_id': '0xab38710', 'dialog': [{'id': 0, 'sender': 'participant2', 'text': 'I love iphone! i just bought new iphone!', 'sender_class': 'Bot'}, {'id': 1, 'sender': 'participant1', 'text': \"Thats good for you, i'm not very into new tech\", 'sender_class': 'Human'}, {'id': 2, 'sender': 'participant2', 'text': 'I am a college student and i am a college student', 'sender_class': 'Bot'}, {'id': 3, 'sender': 'participant1', 'text': 'I am go to gym and live on donations', 'sender_class': 'Human'}, {'id': 4, 'sender': 'participant2', 'text': 'I am a vegan and i am in the midwest', 'sender_class': 'Bot'}, {'id': 5, 'sender': 'participant1', 'text': 'So vegan... i have dogs maybe i should told then that they may eat cheap salads insted of meat', 'sender_class': 'Human'}, {'id': 6, 'sender': 'participant2', 'text': 'I would not mind having them in the office that would be hard for me', 'sender_class': 'Bot'}, {'id': 7, 'sender': 'participant1', 'text': 'Dogs or vegan in office?', 'sender_class': 'Human'}, {'id': 8, 'sender': 'participant2', 'text': 'I am a vegetarian so i am vegan', 'sender_class': 'Bot'}, {'id': 9, 'sender': 'participant1', 'text': 'Strange answer', 'sender_class': 'Human'}, {'id': 10, 'sender': 'participant2', 'text': 'I guess i just do not know what to ps4 experience with.', 'sender_class': 'Bot'}], 'bot_profile': [['i', ' ', 'h', 'a', 'v', 'e', ' ', 'a', 'm', 'a', 'z', 'i', 'n', 'g', ' ', 'c', 'h', 'i', 'l', 'd', 'r', 'e', 'n', ' ', 'a', 'n', 'd', ' ', 'g', 'r', 'a', 'n', 'd', 'c', 'h', 'i', 'l', 'd', 'r', 'e', 'n', '.'], ['i', ' ', 'c', 'a', 'n', ' ', 's', 'e', 'w', ' ', 'm', 'y', ' ', 'o', 'w', 'n', ' ', 'c', 'l', 'o', 't', 'h', 'e', 's', '.'], ['i', ' ', 'h', 'a', 'd', ' ', 'c', 'a', 'n', 'c', 'e', 'r', ' ', 'b', 'u', 't', ' ', 'i', 't', 's', ' ', 'g', 'o', 'n', 'e', ' ', 'n', 'o', 'w', '.'], ['i', ' ', 'a', 'm', ' ', 'r', 'e', 't', 'i', 'r', 'e', 'd', ' ', 'a', 'n', 'd', ' ', 'l', 'i', 'v', 'i', 'n', 'g', ' ', 't', 'h', 'e', ' ', 'g', 'r', 'e', 'a', 't', ' ', 'l', 'i', 'f', 'e', '.'], ['i', ' ', 'd', 'o', ' ', 'n', 'o', 't', ' ', 'h', 'a', 'v', 'e', ' ', 'a', ' ', 's', 'm', 'a', 'r', 't', 'p', 'h', 'o', 'n', 'e', '.']], 'user_profile': [['t', 'w', 'o', ' ', 'd', 'o', 'g', 's', ' ', 'l', 'i', 'v', 'e', ' ', 'w', 'i', 't', 'h', ' ', 'm', 'e', '.'], ['i', ' ', 'l', 'i', 'k', 'e', ' ', 'd', 'o', 'i', 'n', 'g', ' ', 't', 'h', 'e', ' ', 't', 'r', 'e', 'a', 'd', 'm', 'i', 'l', 'l', ' ', 'a', 'n', 'd', ' ', 'r', 'o', 'w', 'i', 'n', 'g', ' ', 'm', 'a', 'c', 'h', 'i', 'n', 'e', '.'], ['e', 'a', 't', 'i', 'n', 'g', ' ', 'i', 's', ' ', 's', 'o', 'm', 'e', 't', 'h', 'i', 'n', 'g', ' ', 'i', ' ', 'd', 'o', ' ', 'w', 'h', 'e', 'n', ' ', 'i', \"'\", 'm', ' ', 'b', 'o', 'r', 'e', 'd', '.'], ['i', ' ', 'h', 'a', 'v', 'e', ' ', 's', 'h', 'o', 'r', 't', ' ', 'h', 'a', 'i', 'r', '.'], ['i', ' ', 'g', 'o', ' ', 't', 'o', ' ', 't', 'h', 'e', ' ', 'g', 'y', 'm', ' ', 'r', 'e', 'g', 'u', 'l', 'a', 'r', 'l', 'y', '.']], 'eval_score': 1, 'profile_match': 0}\n"
     ]
    }
   ],
   "source": [
    "print(reloaded_dataset[0])"
   ],
   "metadata": {
    "collapsed": false,
    "ExecuteTime": {
     "start_time": "2023-05-25T22:23:38.037956Z",
     "end_time": "2023-05-25T22:23:38.093626Z"
    }
   }
  },
  {
   "cell_type": "code",
   "execution_count": null,
   "outputs": [],
   "source": [],
   "metadata": {
    "collapsed": false
   }
  }
 ],
 "metadata": {
  "kernelspec": {
   "display_name": "Python 3",
   "language": "python",
   "name": "python3"
  },
  "language_info": {
   "codemirror_mode": {
    "name": "ipython",
    "version": 2
   },
   "file_extension": ".py",
   "mimetype": "text/x-python",
   "name": "python",
   "nbconvert_exporter": "python",
   "pygments_lexer": "ipython2",
   "version": "2.7.6"
  }
 },
 "nbformat": 4,
 "nbformat_minor": 0
}
